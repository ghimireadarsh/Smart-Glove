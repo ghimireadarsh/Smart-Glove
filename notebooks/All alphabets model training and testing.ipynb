{
 "cells": [
  {
   "cell_type": "code",
   "execution_count": 1,
   "metadata": {},
   "outputs": [],
   "source": [
    "import numpy as np\n",
    "import pandas as pd\n",
    "import matplotlib.pyplot as plt\n",
    "import seaborn as sns\n",
    "\n",
    "# For machine learning \n",
    "from sklearn.model_selection import train_test_split \n",
    "from sklearn.ensemble import RandomForestClassifier\n",
    "from sklearn.metrics import classification_report"
   ]
  },
  {
   "cell_type": "code",
   "execution_count": 2,
   "metadata": {},
   "outputs": [],
   "source": [
    "df = pd.read_csv('../dataset/all.csv')"
   ]
  },
  {
   "cell_type": "code",
   "execution_count": 3,
   "metadata": {},
   "outputs": [
    {
     "data": {
      "text/html": [
       "<div>\n",
       "<style scoped>\n",
       "    .dataframe tbody tr th:only-of-type {\n",
       "        vertical-align: middle;\n",
       "    }\n",
       "\n",
       "    .dataframe tbody tr th {\n",
       "        vertical-align: top;\n",
       "    }\n",
       "\n",
       "    .dataframe thead th {\n",
       "        text-align: right;\n",
       "    }\n",
       "</style>\n",
       "<table border=\"1\" class=\"dataframe\">\n",
       "  <thead>\n",
       "    <tr style=\"text-align: right;\">\n",
       "      <th></th>\n",
       "      <th>Thumb1</th>\n",
       "      <th>Index1</th>\n",
       "      <th>Middle1</th>\n",
       "      <th>Ring1</th>\n",
       "      <th>Pinky1</th>\n",
       "      <th>Palm1</th>\n",
       "      <th>AX1</th>\n",
       "      <th>AY1</th>\n",
       "      <th>AZ1</th>\n",
       "      <th>GX1</th>\n",
       "      <th>...</th>\n",
       "      <th>Ring2</th>\n",
       "      <th>Pinky2</th>\n",
       "      <th>Palm2</th>\n",
       "      <th>AX2</th>\n",
       "      <th>AY2</th>\n",
       "      <th>AZ2</th>\n",
       "      <th>GX2</th>\n",
       "      <th>GY2</th>\n",
       "      <th>GZ2</th>\n",
       "      <th>Word</th>\n",
       "    </tr>\n",
       "  </thead>\n",
       "  <tbody>\n",
       "    <tr>\n",
       "      <th>0</th>\n",
       "      <td>823</td>\n",
       "      <td>860</td>\n",
       "      <td>615</td>\n",
       "      <td>573</td>\n",
       "      <td>668</td>\n",
       "      <td>879</td>\n",
       "      <td>-2.50</td>\n",
       "      <td>0.87</td>\n",
       "      <td>0.70</td>\n",
       "      <td>0.01</td>\n",
       "      <td>...</td>\n",
       "      <td>575</td>\n",
       "      <td>669</td>\n",
       "      <td>882</td>\n",
       "      <td>1.11</td>\n",
       "      <td>1.69</td>\n",
       "      <td>0.55</td>\n",
       "      <td>0.04</td>\n",
       "      <td>1.01</td>\n",
       "      <td>0.13</td>\n",
       "      <td>g</td>\n",
       "    </tr>\n",
       "    <tr>\n",
       "      <th>1</th>\n",
       "      <td>756</td>\n",
       "      <td>877</td>\n",
       "      <td>806</td>\n",
       "      <td>555</td>\n",
       "      <td>685</td>\n",
       "      <td>803</td>\n",
       "      <td>-4.17</td>\n",
       "      <td>2.21</td>\n",
       "      <td>-0.04</td>\n",
       "      <td>-0.03</td>\n",
       "      <td>...</td>\n",
       "      <td>545</td>\n",
       "      <td>681</td>\n",
       "      <td>800</td>\n",
       "      <td>-2.30</td>\n",
       "      <td>4.22</td>\n",
       "      <td>0.30</td>\n",
       "      <td>-0.05</td>\n",
       "      <td>1.00</td>\n",
       "      <td>-0.10</td>\n",
       "      <td>v</td>\n",
       "    </tr>\n",
       "    <tr>\n",
       "      <th>2</th>\n",
       "      <td>751</td>\n",
       "      <td>865</td>\n",
       "      <td>619</td>\n",
       "      <td>543</td>\n",
       "      <td>696</td>\n",
       "      <td>866</td>\n",
       "      <td>21.05</td>\n",
       "      <td>-51.84</td>\n",
       "      <td>-80.37</td>\n",
       "      <td>-0.38</td>\n",
       "      <td>...</td>\n",
       "      <td>547</td>\n",
       "      <td>703</td>\n",
       "      <td>819</td>\n",
       "      <td>-18.59</td>\n",
       "      <td>86.82</td>\n",
       "      <td>60.18</td>\n",
       "      <td>-0.65</td>\n",
       "      <td>0.26</td>\n",
       "      <td>0.61</td>\n",
       "      <td>z</td>\n",
       "    </tr>\n",
       "    <tr>\n",
       "      <th>3</th>\n",
       "      <td>822</td>\n",
       "      <td>885</td>\n",
       "      <td>733</td>\n",
       "      <td>589</td>\n",
       "      <td>690</td>\n",
       "      <td>880</td>\n",
       "      <td>-7.61</td>\n",
       "      <td>15.11</td>\n",
       "      <td>2.82</td>\n",
       "      <td>-0.57</td>\n",
       "      <td>...</td>\n",
       "      <td>588</td>\n",
       "      <td>690</td>\n",
       "      <td>883</td>\n",
       "      <td>-2.48</td>\n",
       "      <td>-0.38</td>\n",
       "      <td>-2.75</td>\n",
       "      <td>-0.55</td>\n",
       "      <td>0.80</td>\n",
       "      <td>-0.16</td>\n",
       "      <td>k</td>\n",
       "    </tr>\n",
       "    <tr>\n",
       "      <th>4</th>\n",
       "      <td>781</td>\n",
       "      <td>889</td>\n",
       "      <td>833</td>\n",
       "      <td>615</td>\n",
       "      <td>712</td>\n",
       "      <td>860</td>\n",
       "      <td>-2.30</td>\n",
       "      <td>1.78</td>\n",
       "      <td>1.18</td>\n",
       "      <td>-0.81</td>\n",
       "      <td>...</td>\n",
       "      <td>616</td>\n",
       "      <td>711</td>\n",
       "      <td>840</td>\n",
       "      <td>0.73</td>\n",
       "      <td>5.72</td>\n",
       "      <td>-0.50</td>\n",
       "      <td>-0.82</td>\n",
       "      <td>0.47</td>\n",
       "      <td>-0.29</td>\n",
       "      <td>h</td>\n",
       "    </tr>\n",
       "  </tbody>\n",
       "</table>\n",
       "<p>5 rows × 25 columns</p>\n",
       "</div>"
      ],
      "text/plain": [
       "   Thumb1  Index1  Middle1  Ring1  Pinky1  Palm1    AX1    AY1    AZ1   GX1  \\\n",
       "0     823     860      615    573     668    879  -2.50   0.87   0.70  0.01   \n",
       "1     756     877      806    555     685    803  -4.17   2.21  -0.04 -0.03   \n",
       "2     751     865      619    543     696    866  21.05 -51.84 -80.37 -0.38   \n",
       "3     822     885      733    589     690    880  -7.61  15.11   2.82 -0.57   \n",
       "4     781     889      833    615     712    860  -2.30   1.78   1.18 -0.81   \n",
       "\n",
       "   ...  Ring2  Pinky2  Palm2    AX2    AY2    AZ2   GX2   GY2   GZ2  Word  \n",
       "0  ...    575     669    882   1.11   1.69   0.55  0.04  1.01  0.13     g  \n",
       "1  ...    545     681    800  -2.30   4.22   0.30 -0.05  1.00 -0.10     v  \n",
       "2  ...    547     703    819 -18.59  86.82  60.18 -0.65  0.26  0.61     z  \n",
       "3  ...    588     690    883  -2.48  -0.38  -2.75 -0.55  0.80 -0.16     k  \n",
       "4  ...    616     711    840   0.73   5.72  -0.50 -0.82  0.47 -0.29     h  \n",
       "\n",
       "[5 rows x 25 columns]"
      ]
     },
     "execution_count": 3,
     "metadata": {},
     "output_type": "execute_result"
    }
   ],
   "source": [
    "df.head()"
   ]
  },
  {
   "cell_type": "code",
   "execution_count": 4,
   "metadata": {},
   "outputs": [
    {
     "data": {
      "text/plain": [
       "2486"
      ]
     },
     "execution_count": 4,
     "metadata": {},
     "output_type": "execute_result"
    }
   ],
   "source": [
    "len(df)"
   ]
  },
  {
   "cell_type": "code",
   "execution_count": 5,
   "metadata": {},
   "outputs": [],
   "source": [
    "df_X = df.drop([\"Word\"], axis=1)"
   ]
  },
  {
   "cell_type": "code",
   "execution_count": 6,
   "metadata": {},
   "outputs": [],
   "source": [
    "df_y = df[\"Word\"]"
   ]
  },
  {
   "cell_type": "code",
   "execution_count": 7,
   "metadata": {},
   "outputs": [],
   "source": [
    "# Creating training and testing data\n",
    "X_train, X_test, y_train, y_test = train_test_split(df_X, df_y, test_size=0.08)"
   ]
  },
  {
   "cell_type": "code",
   "execution_count": 8,
   "metadata": {},
   "outputs": [
    {
     "name": "stdout",
     "output_type": "stream",
     "text": [
      "Training data size : 2287 \n",
      "Testing data size : 199\n"
     ]
    }
   ],
   "source": [
    "print(\"Training data size : {} \\nTesting data size : {}\".format(len(X_train), len(X_test)))"
   ]
  },
  {
   "cell_type": "code",
   "execution_count": 9,
   "metadata": {},
   "outputs": [
    {
     "name": "stdout",
     "output_type": "stream",
     "text": [
      "Train data shape : (2287, 24) \n",
      "Test Data shape : (199, 24) \n"
     ]
    }
   ],
   "source": [
    "print(\"Train data shape : {} \\nTest Data shape : {} \".format(X_train.shape, X_test.shape))"
   ]
  },
  {
   "cell_type": "code",
   "execution_count": 10,
   "metadata": {},
   "outputs": [
    {
     "data": {
      "text/html": [
       "<div>\n",
       "<style scoped>\n",
       "    .dataframe tbody tr th:only-of-type {\n",
       "        vertical-align: middle;\n",
       "    }\n",
       "\n",
       "    .dataframe tbody tr th {\n",
       "        vertical-align: top;\n",
       "    }\n",
       "\n",
       "    .dataframe thead th {\n",
       "        text-align: right;\n",
       "    }\n",
       "</style>\n",
       "<table border=\"1\" class=\"dataframe\">\n",
       "  <thead>\n",
       "    <tr style=\"text-align: right;\">\n",
       "      <th></th>\n",
       "      <th>Thumb1</th>\n",
       "      <th>Index1</th>\n",
       "      <th>Middle1</th>\n",
       "      <th>Ring1</th>\n",
       "      <th>Pinky1</th>\n",
       "      <th>Palm1</th>\n",
       "      <th>AX1</th>\n",
       "      <th>AY1</th>\n",
       "      <th>AZ1</th>\n",
       "      <th>GX1</th>\n",
       "      <th>...</th>\n",
       "      <th>Middle2</th>\n",
       "      <th>Ring2</th>\n",
       "      <th>Pinky2</th>\n",
       "      <th>Palm2</th>\n",
       "      <th>AX2</th>\n",
       "      <th>AY2</th>\n",
       "      <th>AZ2</th>\n",
       "      <th>GX2</th>\n",
       "      <th>GY2</th>\n",
       "      <th>GZ2</th>\n",
       "    </tr>\n",
       "  </thead>\n",
       "  <tbody>\n",
       "    <tr>\n",
       "      <th>641</th>\n",
       "      <td>769</td>\n",
       "      <td>735</td>\n",
       "      <td>628</td>\n",
       "      <td>557</td>\n",
       "      <td>667</td>\n",
       "      <td>838</td>\n",
       "      <td>-1.60</td>\n",
       "      <td>15.54</td>\n",
       "      <td>2.57</td>\n",
       "      <td>0.09</td>\n",
       "      <td>...</td>\n",
       "      <td>638</td>\n",
       "      <td>560</td>\n",
       "      <td>674</td>\n",
       "      <td>853</td>\n",
       "      <td>-0.37</td>\n",
       "      <td>0.56</td>\n",
       "      <td>5.66</td>\n",
       "      <td>0.03</td>\n",
       "      <td>0.93</td>\n",
       "      <td>-0.47</td>\n",
       "    </tr>\n",
       "    <tr>\n",
       "      <th>521</th>\n",
       "      <td>779</td>\n",
       "      <td>712</td>\n",
       "      <td>655</td>\n",
       "      <td>547</td>\n",
       "      <td>879</td>\n",
       "      <td>511</td>\n",
       "      <td>-41.56</td>\n",
       "      <td>24.80</td>\n",
       "      <td>51.67</td>\n",
       "      <td>-0.13</td>\n",
       "      <td>...</td>\n",
       "      <td>657</td>\n",
       "      <td>552</td>\n",
       "      <td>878</td>\n",
       "      <td>533</td>\n",
       "      <td>-47.08</td>\n",
       "      <td>19.57</td>\n",
       "      <td>44.26</td>\n",
       "      <td>-0.43</td>\n",
       "      <td>-0.25</td>\n",
       "      <td>0.75</td>\n",
       "    </tr>\n",
       "    <tr>\n",
       "      <th>1602</th>\n",
       "      <td>844</td>\n",
       "      <td>804</td>\n",
       "      <td>802</td>\n",
       "      <td>855</td>\n",
       "      <td>899</td>\n",
       "      <td>239</td>\n",
       "      <td>-10.24</td>\n",
       "      <td>40.14</td>\n",
       "      <td>3.07</td>\n",
       "      <td>-0.11</td>\n",
       "      <td>...</td>\n",
       "      <td>805</td>\n",
       "      <td>858</td>\n",
       "      <td>900</td>\n",
       "      <td>235</td>\n",
       "      <td>0.22</td>\n",
       "      <td>0.41</td>\n",
       "      <td>-1.05</td>\n",
       "      <td>-0.07</td>\n",
       "      <td>1.01</td>\n",
       "      <td>-0.10</td>\n",
       "    </tr>\n",
       "    <tr>\n",
       "      <th>729</th>\n",
       "      <td>779</td>\n",
       "      <td>751</td>\n",
       "      <td>662</td>\n",
       "      <td>608</td>\n",
       "      <td>685</td>\n",
       "      <td>854</td>\n",
       "      <td>-10.89</td>\n",
       "      <td>13.92</td>\n",
       "      <td>-0.95</td>\n",
       "      <td>-0.06</td>\n",
       "      <td>...</td>\n",
       "      <td>662</td>\n",
       "      <td>606</td>\n",
       "      <td>688</td>\n",
       "      <td>853</td>\n",
       "      <td>0.58</td>\n",
       "      <td>-7.21</td>\n",
       "      <td>1.36</td>\n",
       "      <td>-0.18</td>\n",
       "      <td>1.01</td>\n",
       "      <td>-0.30</td>\n",
       "    </tr>\n",
       "    <tr>\n",
       "      <th>1953</th>\n",
       "      <td>780</td>\n",
       "      <td>728</td>\n",
       "      <td>663</td>\n",
       "      <td>533</td>\n",
       "      <td>876</td>\n",
       "      <td>503</td>\n",
       "      <td>250.13</td>\n",
       "      <td>-0.48</td>\n",
       "      <td>38.73</td>\n",
       "      <td>-0.38</td>\n",
       "      <td>...</td>\n",
       "      <td>644</td>\n",
       "      <td>544</td>\n",
       "      <td>870</td>\n",
       "      <td>336</td>\n",
       "      <td>-171.24</td>\n",
       "      <td>33.79</td>\n",
       "      <td>-6.20</td>\n",
       "      <td>-0.07</td>\n",
       "      <td>0.51</td>\n",
       "      <td>0.70</td>\n",
       "    </tr>\n",
       "  </tbody>\n",
       "</table>\n",
       "<p>5 rows × 24 columns</p>\n",
       "</div>"
      ],
      "text/plain": [
       "      Thumb1  Index1  Middle1  Ring1  Pinky1  Palm1     AX1    AY1    AZ1  \\\n",
       "641      769     735      628    557     667    838   -1.60  15.54   2.57   \n",
       "521      779     712      655    547     879    511  -41.56  24.80  51.67   \n",
       "1602     844     804      802    855     899    239  -10.24  40.14   3.07   \n",
       "729      779     751      662    608     685    854  -10.89  13.92  -0.95   \n",
       "1953     780     728      663    533     876    503  250.13  -0.48  38.73   \n",
       "\n",
       "       GX1  ...  Middle2  Ring2  Pinky2  Palm2     AX2    AY2    AZ2   GX2  \\\n",
       "641   0.09  ...      638    560     674    853   -0.37   0.56   5.66  0.03   \n",
       "521  -0.13  ...      657    552     878    533  -47.08  19.57  44.26 -0.43   \n",
       "1602 -0.11  ...      805    858     900    235    0.22   0.41  -1.05 -0.07   \n",
       "729  -0.06  ...      662    606     688    853    0.58  -7.21   1.36 -0.18   \n",
       "1953 -0.38  ...      644    544     870    336 -171.24  33.79  -6.20 -0.07   \n",
       "\n",
       "       GY2   GZ2  \n",
       "641   0.93 -0.47  \n",
       "521  -0.25  0.75  \n",
       "1602  1.01 -0.10  \n",
       "729   1.01 -0.30  \n",
       "1953  0.51  0.70  \n",
       "\n",
       "[5 rows x 24 columns]"
      ]
     },
     "execution_count": 10,
     "metadata": {},
     "output_type": "execute_result"
    }
   ],
   "source": [
    "X_train.head()"
   ]
  },
  {
   "cell_type": "code",
   "execution_count": 11,
   "metadata": {},
   "outputs": [
    {
     "name": "stdout",
     "output_type": "stream",
     "text": [
      "Total unique elements in training data are : 26\n"
     ]
    }
   ],
   "source": [
    "print(\"Total unique elements in training data are : {}\".format(len(y_train.value_counts())))"
   ]
  },
  {
   "cell_type": "code",
   "execution_count": 12,
   "metadata": {},
   "outputs": [
    {
     "name": "stdout",
     "output_type": "stream",
     "text": [
      "Training data for each alphabets are :\n",
      "g    93\n",
      "b    92\n",
      "o    92\n",
      "k    91\n",
      "l    91\n",
      "s    90\n",
      "n    90\n",
      "y    90\n",
      "e    89\n",
      "p    89\n",
      "a    88\n",
      "j    88\n",
      "t    88\n",
      "c    88\n",
      "x    88\n",
      "v    88\n",
      "r    87\n",
      "q    87\n",
      "i    86\n",
      "h    86\n",
      "z    85\n",
      "u    85\n",
      "w    85\n",
      "m    85\n",
      "f    83\n",
      "d    83\n",
      "Name: Word, dtype: int64\n"
     ]
    }
   ],
   "source": [
    "print(\"Training data for each alphabets are :\\n{}\".format(y_train.value_counts()))"
   ]
  },
  {
   "cell_type": "code",
   "execution_count": 13,
   "metadata": {},
   "outputs": [
    {
     "name": "stdout",
     "output_type": "stream",
     "text": [
      "Total unique elements in test data are : 26\n"
     ]
    }
   ],
   "source": [
    "print(\"Total unique elements in test data are : {}\".format(len(y_test.value_counts())))"
   ]
  },
  {
   "cell_type": "code",
   "execution_count": 14,
   "metadata": {},
   "outputs": [
    {
     "name": "stdout",
     "output_type": "stream",
     "text": [
      "Training data for each alphabets are :\n",
      "f    13\n",
      "d    13\n",
      "m    11\n",
      "u    11\n",
      "w    10\n",
      "i    10\n",
      "z    10\n",
      "r     9\n",
      "h     9\n",
      "t     8\n",
      "v     8\n",
      "c     8\n",
      "q     8\n",
      "x     7\n",
      "e     7\n",
      "p     7\n",
      "a     7\n",
      "j     7\n",
      "s     6\n",
      "l     5\n",
      "n     5\n",
      "y     5\n",
      "b     4\n",
      "k     4\n",
      "o     4\n",
      "g     3\n",
      "Name: Word, dtype: int64\n"
     ]
    }
   ],
   "source": [
    "print(\"Training data for each alphabets are :\\n{}\".format(y_test.value_counts()))"
   ]
  },
  {
   "cell_type": "code",
   "execution_count": 15,
   "metadata": {},
   "outputs": [
    {
     "data": {
      "text/plain": [
       "RandomForestClassifier(bootstrap=True, ccp_alpha=0.0, class_weight=None,\n",
       "                       criterion='gini', max_depth=None, max_features='auto',\n",
       "                       max_leaf_nodes=None, max_samples=None,\n",
       "                       min_impurity_decrease=0.0, min_impurity_split=None,\n",
       "                       min_samples_leaf=1, min_samples_split=2,\n",
       "                       min_weight_fraction_leaf=0.0, n_estimators=300,\n",
       "                       n_jobs=None, oob_score=False, random_state=30, verbose=0,\n",
       "                       warm_start=False)"
      ]
     },
     "execution_count": 15,
     "metadata": {},
     "output_type": "execute_result"
    }
   ],
   "source": [
    "rf = RandomForestClassifier(n_estimators=300, random_state=30)\n",
    "rf.fit(X_train, y_train)"
   ]
  },
  {
   "cell_type": "code",
   "execution_count": 16,
   "metadata": {},
   "outputs": [
    {
     "data": {
      "text/plain": [
       "1.0"
      ]
     },
     "execution_count": 16,
     "metadata": {},
     "output_type": "execute_result"
    }
   ],
   "source": [
    "rf.score(X_train, y_train)"
   ]
  },
  {
   "cell_type": "code",
   "execution_count": 17,
   "metadata": {},
   "outputs": [
    {
     "data": {
      "text/plain": [
       "1.0"
      ]
     },
     "execution_count": 17,
     "metadata": {},
     "output_type": "execute_result"
    }
   ],
   "source": [
    "rf.score(X_test, y_test)"
   ]
  },
  {
   "cell_type": "markdown",
   "metadata": {},
   "source": [
    "#### Achieved training score of 100% and test score og 99.49%"
   ]
  },
  {
   "cell_type": "code",
   "execution_count": 18,
   "metadata": {},
   "outputs": [],
   "source": [
    "y_test_predicted = rf.predict(X_test)"
   ]
  },
  {
   "cell_type": "code",
   "execution_count": 19,
   "metadata": {},
   "outputs": [
    {
     "name": "stdout",
     "output_type": "stream",
     "text": [
      "Classification Report \n",
      "                precision    recall  f1-score   support\n",
      "\n",
      "           a       1.00      1.00      1.00         7\n",
      "           b       1.00      1.00      1.00         4\n",
      "           c       1.00      1.00      1.00         8\n",
      "           d       1.00      1.00      1.00        13\n",
      "           e       1.00      1.00      1.00         7\n",
      "           f       1.00      1.00      1.00        13\n",
      "           g       1.00      1.00      1.00         3\n",
      "           h       1.00      1.00      1.00         9\n",
      "           i       1.00      1.00      1.00        10\n",
      "           j       1.00      1.00      1.00         7\n",
      "           k       1.00      1.00      1.00         4\n",
      "           l       1.00      1.00      1.00         5\n",
      "           m       1.00      1.00      1.00        11\n",
      "           n       1.00      1.00      1.00         5\n",
      "           o       1.00      1.00      1.00         4\n",
      "           p       1.00      1.00      1.00         7\n",
      "           q       1.00      1.00      1.00         8\n",
      "           r       1.00      1.00      1.00         9\n",
      "           s       1.00      1.00      1.00         6\n",
      "           t       1.00      1.00      1.00         8\n",
      "           u       1.00      1.00      1.00        11\n",
      "           v       1.00      1.00      1.00         8\n",
      "           w       1.00      1.00      1.00        10\n",
      "           x       1.00      1.00      1.00         7\n",
      "           y       1.00      1.00      1.00         5\n",
      "           z       1.00      1.00      1.00        10\n",
      "\n",
      "    accuracy                           1.00       199\n",
      "   macro avg       1.00      1.00      1.00       199\n",
      "weighted avg       1.00      1.00      1.00       199\n",
      "\n"
     ]
    }
   ],
   "source": [
    "print(\"Classification Report \\n \", classification_report(y_test, y_test_predicted))"
   ]
  },
  {
   "cell_type": "markdown",
   "metadata": {},
   "source": [
    "### This model is good enough for all the cases of all the alphabets"
   ]
  },
  {
   "cell_type": "code",
   "execution_count": 20,
   "metadata": {},
   "outputs": [],
   "source": [
    "# Using pickle to save model for later use\n",
    "import pickle5 as pickle"
   ]
  },
  {
   "cell_type": "code",
   "execution_count": 21,
   "metadata": {},
   "outputs": [],
   "source": [
    "# Saving the model \n",
    "pickle.dump(rf, open('../models/all_alphabets', 'wb'))"
   ]
  }
 ],
 "metadata": {
  "kernelspec": {
   "display_name": "Python 3",
   "language": "python",
   "name": "python3"
  },
  "language_info": {
   "codemirror_mode": {
    "name": "ipython",
    "version": 3
   },
   "file_extension": ".py",
   "mimetype": "text/x-python",
   "name": "python",
   "nbconvert_exporter": "python",
   "pygments_lexer": "ipython3",
   "version": "3.6.9"
  }
 },
 "nbformat": 4,
 "nbformat_minor": 2
}
