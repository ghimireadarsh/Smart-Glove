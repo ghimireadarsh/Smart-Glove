{
 "cells": [
  {
   "cell_type": "code",
   "execution_count": 2,
   "metadata": {},
   "outputs": [],
   "source": [
    "import numpy as np\n",
    "import pandas as pd\n",
    "import matplotlib.pyplot as plt\n",
    "import seaborn as sns\n",
    "\n",
    "# For machine learning \n",
    "from sklearn.model_selection import train_test_split \n",
    "from sklearn.ensemble import RandomForestClassifier\n",
    "from sklearn.metrics import classification_report"
   ]
  },
  {
   "cell_type": "code",
   "execution_count": 3,
   "metadata": {},
   "outputs": [],
   "source": [
    "df = pd.read_csv('../dataset/all.csv')"
   ]
  },
  {
   "cell_type": "code",
   "execution_count": 4,
   "metadata": {},
   "outputs": [
    {
     "data": {
      "text/html": [
       "<div>\n",
       "<style scoped>\n",
       "    .dataframe tbody tr th:only-of-type {\n",
       "        vertical-align: middle;\n",
       "    }\n",
       "\n",
       "    .dataframe tbody tr th {\n",
       "        vertical-align: top;\n",
       "    }\n",
       "\n",
       "    .dataframe thead th {\n",
       "        text-align: right;\n",
       "    }\n",
       "</style>\n",
       "<table border=\"1\" class=\"dataframe\">\n",
       "  <thead>\n",
       "    <tr style=\"text-align: right;\">\n",
       "      <th></th>\n",
       "      <th>Thumb1</th>\n",
       "      <th>Index1</th>\n",
       "      <th>Middle1</th>\n",
       "      <th>Ring1</th>\n",
       "      <th>Pinky1</th>\n",
       "      <th>Palm1</th>\n",
       "      <th>AX1</th>\n",
       "      <th>AY1</th>\n",
       "      <th>AZ1</th>\n",
       "      <th>GX1</th>\n",
       "      <th>...</th>\n",
       "      <th>Ring2</th>\n",
       "      <th>Pinky2</th>\n",
       "      <th>Palm2</th>\n",
       "      <th>AX2</th>\n",
       "      <th>AY2</th>\n",
       "      <th>AZ2</th>\n",
       "      <th>GX2</th>\n",
       "      <th>GY2</th>\n",
       "      <th>GZ2</th>\n",
       "      <th>Word</th>\n",
       "    </tr>\n",
       "  </thead>\n",
       "  <tbody>\n",
       "    <tr>\n",
       "      <th>0</th>\n",
       "      <td>823</td>\n",
       "      <td>860</td>\n",
       "      <td>615</td>\n",
       "      <td>573</td>\n",
       "      <td>668</td>\n",
       "      <td>879</td>\n",
       "      <td>-2.50</td>\n",
       "      <td>0.87</td>\n",
       "      <td>0.70</td>\n",
       "      <td>0.01</td>\n",
       "      <td>...</td>\n",
       "      <td>575</td>\n",
       "      <td>669</td>\n",
       "      <td>882</td>\n",
       "      <td>1.11</td>\n",
       "      <td>1.69</td>\n",
       "      <td>0.55</td>\n",
       "      <td>0.04</td>\n",
       "      <td>1.01</td>\n",
       "      <td>0.13</td>\n",
       "      <td>g</td>\n",
       "    </tr>\n",
       "    <tr>\n",
       "      <th>1</th>\n",
       "      <td>756</td>\n",
       "      <td>877</td>\n",
       "      <td>806</td>\n",
       "      <td>555</td>\n",
       "      <td>685</td>\n",
       "      <td>803</td>\n",
       "      <td>-4.17</td>\n",
       "      <td>2.21</td>\n",
       "      <td>-0.04</td>\n",
       "      <td>-0.03</td>\n",
       "      <td>...</td>\n",
       "      <td>545</td>\n",
       "      <td>681</td>\n",
       "      <td>800</td>\n",
       "      <td>-2.30</td>\n",
       "      <td>4.22</td>\n",
       "      <td>0.30</td>\n",
       "      <td>-0.05</td>\n",
       "      <td>1.00</td>\n",
       "      <td>-0.10</td>\n",
       "      <td>v</td>\n",
       "    </tr>\n",
       "    <tr>\n",
       "      <th>2</th>\n",
       "      <td>751</td>\n",
       "      <td>865</td>\n",
       "      <td>619</td>\n",
       "      <td>543</td>\n",
       "      <td>696</td>\n",
       "      <td>866</td>\n",
       "      <td>21.05</td>\n",
       "      <td>-51.84</td>\n",
       "      <td>-80.37</td>\n",
       "      <td>-0.38</td>\n",
       "      <td>...</td>\n",
       "      <td>547</td>\n",
       "      <td>703</td>\n",
       "      <td>819</td>\n",
       "      <td>-18.59</td>\n",
       "      <td>86.82</td>\n",
       "      <td>60.18</td>\n",
       "      <td>-0.65</td>\n",
       "      <td>0.26</td>\n",
       "      <td>0.61</td>\n",
       "      <td>z</td>\n",
       "    </tr>\n",
       "    <tr>\n",
       "      <th>3</th>\n",
       "      <td>822</td>\n",
       "      <td>885</td>\n",
       "      <td>733</td>\n",
       "      <td>589</td>\n",
       "      <td>690</td>\n",
       "      <td>880</td>\n",
       "      <td>-7.61</td>\n",
       "      <td>15.11</td>\n",
       "      <td>2.82</td>\n",
       "      <td>-0.57</td>\n",
       "      <td>...</td>\n",
       "      <td>588</td>\n",
       "      <td>690</td>\n",
       "      <td>883</td>\n",
       "      <td>-2.48</td>\n",
       "      <td>-0.38</td>\n",
       "      <td>-2.75</td>\n",
       "      <td>-0.55</td>\n",
       "      <td>0.80</td>\n",
       "      <td>-0.16</td>\n",
       "      <td>k</td>\n",
       "    </tr>\n",
       "    <tr>\n",
       "      <th>4</th>\n",
       "      <td>781</td>\n",
       "      <td>889</td>\n",
       "      <td>833</td>\n",
       "      <td>615</td>\n",
       "      <td>712</td>\n",
       "      <td>860</td>\n",
       "      <td>-2.30</td>\n",
       "      <td>1.78</td>\n",
       "      <td>1.18</td>\n",
       "      <td>-0.81</td>\n",
       "      <td>...</td>\n",
       "      <td>616</td>\n",
       "      <td>711</td>\n",
       "      <td>840</td>\n",
       "      <td>0.73</td>\n",
       "      <td>5.72</td>\n",
       "      <td>-0.50</td>\n",
       "      <td>-0.82</td>\n",
       "      <td>0.47</td>\n",
       "      <td>-0.29</td>\n",
       "      <td>h</td>\n",
       "    </tr>\n",
       "  </tbody>\n",
       "</table>\n",
       "<p>5 rows × 25 columns</p>\n",
       "</div>"
      ],
      "text/plain": [
       "   Thumb1  Index1  Middle1  Ring1  Pinky1  Palm1    AX1    AY1    AZ1   GX1  \\\n",
       "0     823     860      615    573     668    879  -2.50   0.87   0.70  0.01   \n",
       "1     756     877      806    555     685    803  -4.17   2.21  -0.04 -0.03   \n",
       "2     751     865      619    543     696    866  21.05 -51.84 -80.37 -0.38   \n",
       "3     822     885      733    589     690    880  -7.61  15.11   2.82 -0.57   \n",
       "4     781     889      833    615     712    860  -2.30   1.78   1.18 -0.81   \n",
       "\n",
       "   ...  Ring2  Pinky2  Palm2    AX2    AY2    AZ2   GX2   GY2   GZ2  Word  \n",
       "0  ...    575     669    882   1.11   1.69   0.55  0.04  1.01  0.13     g  \n",
       "1  ...    545     681    800  -2.30   4.22   0.30 -0.05  1.00 -0.10     v  \n",
       "2  ...    547     703    819 -18.59  86.82  60.18 -0.65  0.26  0.61     z  \n",
       "3  ...    588     690    883  -2.48  -0.38  -2.75 -0.55  0.80 -0.16     k  \n",
       "4  ...    616     711    840   0.73   5.72  -0.50 -0.82  0.47 -0.29     h  \n",
       "\n",
       "[5 rows x 25 columns]"
      ]
     },
     "execution_count": 4,
     "metadata": {},
     "output_type": "execute_result"
    }
   ],
   "source": [
    "df.head()"
   ]
  },
  {
   "cell_type": "code",
   "execution_count": 5,
   "metadata": {},
   "outputs": [
    {
     "data": {
      "text/plain": [
       "2486"
      ]
     },
     "execution_count": 5,
     "metadata": {},
     "output_type": "execute_result"
    }
   ],
   "source": [
    "len(df)"
   ]
  },
  {
   "cell_type": "code",
   "execution_count": 6,
   "metadata": {},
   "outputs": [],
   "source": [
    "df_X = df.drop([\"Word\"], axis=1)"
   ]
  },
  {
   "cell_type": "code",
   "execution_count": 7,
   "metadata": {},
   "outputs": [],
   "source": [
    "df_y = df[\"Word\"]"
   ]
  },
  {
   "cell_type": "code",
   "execution_count": 8,
   "metadata": {},
   "outputs": [],
   "source": [
    "# Creating training and testing data\n",
    "X_train, X_test, y_train, y_test = train_test_split(df_X, df_y, test_size=0.08)"
   ]
  },
  {
   "cell_type": "code",
   "execution_count": 9,
   "metadata": {},
   "outputs": [
    {
     "name": "stdout",
     "output_type": "stream",
     "text": [
      "Training data size : 2287 \n",
      "Testing data size : 199\n"
     ]
    }
   ],
   "source": [
    "print(\"Training data size : {} \\nTesting data size : {}\".format(len(X_train), len(X_test)))"
   ]
  },
  {
   "cell_type": "code",
   "execution_count": 10,
   "metadata": {},
   "outputs": [
    {
     "name": "stdout",
     "output_type": "stream",
     "text": [
      "Train data shape : (2287, 24) \n",
      "Test Data shape : (199, 24) \n"
     ]
    }
   ],
   "source": [
    "print(\"Train data shape : {} \\nTest Data shape : {} \".format(X_train.shape, X_test.shape))"
   ]
  },
  {
   "cell_type": "code",
   "execution_count": 11,
   "metadata": {},
   "outputs": [
    {
     "data": {
      "text/html": [
       "<div>\n",
       "<style scoped>\n",
       "    .dataframe tbody tr th:only-of-type {\n",
       "        vertical-align: middle;\n",
       "    }\n",
       "\n",
       "    .dataframe tbody tr th {\n",
       "        vertical-align: top;\n",
       "    }\n",
       "\n",
       "    .dataframe thead th {\n",
       "        text-align: right;\n",
       "    }\n",
       "</style>\n",
       "<table border=\"1\" class=\"dataframe\">\n",
       "  <thead>\n",
       "    <tr style=\"text-align: right;\">\n",
       "      <th></th>\n",
       "      <th>Thumb1</th>\n",
       "      <th>Index1</th>\n",
       "      <th>Middle1</th>\n",
       "      <th>Ring1</th>\n",
       "      <th>Pinky1</th>\n",
       "      <th>Palm1</th>\n",
       "      <th>AX1</th>\n",
       "      <th>AY1</th>\n",
       "      <th>AZ1</th>\n",
       "      <th>GX1</th>\n",
       "      <th>...</th>\n",
       "      <th>Middle2</th>\n",
       "      <th>Ring2</th>\n",
       "      <th>Pinky2</th>\n",
       "      <th>Palm2</th>\n",
       "      <th>AX2</th>\n",
       "      <th>AY2</th>\n",
       "      <th>AZ2</th>\n",
       "      <th>GX2</th>\n",
       "      <th>GY2</th>\n",
       "      <th>GZ2</th>\n",
       "    </tr>\n",
       "  </thead>\n",
       "  <tbody>\n",
       "    <tr>\n",
       "      <th>93</th>\n",
       "      <td>838</td>\n",
       "      <td>889</td>\n",
       "      <td>779</td>\n",
       "      <td>604</td>\n",
       "      <td>685</td>\n",
       "      <td>866</td>\n",
       "      <td>-4.01</td>\n",
       "      <td>0.60</td>\n",
       "      <td>-1.74</td>\n",
       "      <td>-0.52</td>\n",
       "      <td>...</td>\n",
       "      <td>787</td>\n",
       "      <td>599</td>\n",
       "      <td>685</td>\n",
       "      <td>860</td>\n",
       "      <td>-6.04</td>\n",
       "      <td>1.98</td>\n",
       "      <td>-3.61</td>\n",
       "      <td>-0.48</td>\n",
       "      <td>-0.55</td>\n",
       "      <td>0.51</td>\n",
       "    </tr>\n",
       "    <tr>\n",
       "      <th>25</th>\n",
       "      <td>759</td>\n",
       "      <td>761</td>\n",
       "      <td>600</td>\n",
       "      <td>596</td>\n",
       "      <td>730</td>\n",
       "      <td>401</td>\n",
       "      <td>-1.89</td>\n",
       "      <td>-1.86</td>\n",
       "      <td>9.28</td>\n",
       "      <td>0.06</td>\n",
       "      <td>...</td>\n",
       "      <td>603</td>\n",
       "      <td>591</td>\n",
       "      <td>726</td>\n",
       "      <td>406</td>\n",
       "      <td>1.65</td>\n",
       "      <td>-13.43</td>\n",
       "      <td>-15.44</td>\n",
       "      <td>0.00</td>\n",
       "      <td>0.91</td>\n",
       "      <td>0.25</td>\n",
       "    </tr>\n",
       "    <tr>\n",
       "      <th>1429</th>\n",
       "      <td>723</td>\n",
       "      <td>829</td>\n",
       "      <td>600</td>\n",
       "      <td>554</td>\n",
       "      <td>681</td>\n",
       "      <td>870</td>\n",
       "      <td>-0.31</td>\n",
       "      <td>1.52</td>\n",
       "      <td>4.44</td>\n",
       "      <td>-0.15</td>\n",
       "      <td>...</td>\n",
       "      <td>605</td>\n",
       "      <td>555</td>\n",
       "      <td>681</td>\n",
       "      <td>868</td>\n",
       "      <td>12.93</td>\n",
       "      <td>2.18</td>\n",
       "      <td>4.21</td>\n",
       "      <td>-0.17</td>\n",
       "      <td>0.96</td>\n",
       "      <td>-0.09</td>\n",
       "    </tr>\n",
       "    <tr>\n",
       "      <th>434</th>\n",
       "      <td>844</td>\n",
       "      <td>807</td>\n",
       "      <td>802</td>\n",
       "      <td>858</td>\n",
       "      <td>899</td>\n",
       "      <td>238</td>\n",
       "      <td>-0.77</td>\n",
       "      <td>-57.70</td>\n",
       "      <td>-1.49</td>\n",
       "      <td>-0.09</td>\n",
       "      <td>...</td>\n",
       "      <td>802</td>\n",
       "      <td>858</td>\n",
       "      <td>898</td>\n",
       "      <td>220</td>\n",
       "      <td>-2.54</td>\n",
       "      <td>2.57</td>\n",
       "      <td>1.23</td>\n",
       "      <td>-0.11</td>\n",
       "      <td>0.98</td>\n",
       "      <td>-0.07</td>\n",
       "    </tr>\n",
       "    <tr>\n",
       "      <th>65</th>\n",
       "      <td>734</td>\n",
       "      <td>879</td>\n",
       "      <td>835</td>\n",
       "      <td>557</td>\n",
       "      <td>672</td>\n",
       "      <td>825</td>\n",
       "      <td>-1.51</td>\n",
       "      <td>0.54</td>\n",
       "      <td>-1.06</td>\n",
       "      <td>0.12</td>\n",
       "      <td>...</td>\n",
       "      <td>836</td>\n",
       "      <td>550</td>\n",
       "      <td>671</td>\n",
       "      <td>829</td>\n",
       "      <td>2.11</td>\n",
       "      <td>11.53</td>\n",
       "      <td>-1.15</td>\n",
       "      <td>0.19</td>\n",
       "      <td>0.94</td>\n",
       "      <td>-0.34</td>\n",
       "    </tr>\n",
       "  </tbody>\n",
       "</table>\n",
       "<p>5 rows × 24 columns</p>\n",
       "</div>"
      ],
      "text/plain": [
       "      Thumb1  Index1  Middle1  Ring1  Pinky1  Palm1   AX1    AY1   AZ1   GX1  \\\n",
       "93       838     889      779    604     685    866 -4.01   0.60 -1.74 -0.52   \n",
       "25       759     761      600    596     730    401 -1.89  -1.86  9.28  0.06   \n",
       "1429     723     829      600    554     681    870 -0.31   1.52  4.44 -0.15   \n",
       "434      844     807      802    858     899    238 -0.77 -57.70 -1.49 -0.09   \n",
       "65       734     879      835    557     672    825 -1.51   0.54 -1.06  0.12   \n",
       "\n",
       "      ...  Middle2  Ring2  Pinky2  Palm2    AX2    AY2    AZ2   GX2   GY2  \\\n",
       "93    ...      787    599     685    860  -6.04   1.98  -3.61 -0.48 -0.55   \n",
       "25    ...      603    591     726    406   1.65 -13.43 -15.44  0.00  0.91   \n",
       "1429  ...      605    555     681    868  12.93   2.18   4.21 -0.17  0.96   \n",
       "434   ...      802    858     898    220  -2.54   2.57   1.23 -0.11  0.98   \n",
       "65    ...      836    550     671    829   2.11  11.53  -1.15  0.19  0.94   \n",
       "\n",
       "       GZ2  \n",
       "93    0.51  \n",
       "25    0.25  \n",
       "1429 -0.09  \n",
       "434  -0.07  \n",
       "65   -0.34  \n",
       "\n",
       "[5 rows x 24 columns]"
      ]
     },
     "execution_count": 11,
     "metadata": {},
     "output_type": "execute_result"
    }
   ],
   "source": [
    "X_train.head()"
   ]
  },
  {
   "cell_type": "code",
   "execution_count": 12,
   "metadata": {},
   "outputs": [
    {
     "name": "stdout",
     "output_type": "stream",
     "text": [
      "Total unique elements in training data are : 26\n"
     ]
    }
   ],
   "source": [
    "print(\"Total unique elements in training data are : {}\".format(len(y_train.value_counts())))"
   ]
  },
  {
   "cell_type": "code",
   "execution_count": 13,
   "metadata": {},
   "outputs": [
    {
     "name": "stdout",
     "output_type": "stream",
     "text": [
      "Training data for each alphabets are :\n",
      "m    93\n",
      "a    93\n",
      "j    93\n",
      "f    92\n",
      "s    91\n",
      "i    91\n",
      "b    90\n",
      "x    90\n",
      "p    90\n",
      "z    89\n",
      "h    89\n",
      "l    88\n",
      "t    88\n",
      "g    88\n",
      "y    88\n",
      "r    88\n",
      "u    87\n",
      "n    87\n",
      "d    87\n",
      "v    85\n",
      "o    84\n",
      "c    84\n",
      "w    84\n",
      "e    83\n",
      "k    83\n",
      "q    82\n",
      "Name: Word, dtype: int64\n"
     ]
    }
   ],
   "source": [
    "print(\"Training data for each alphabets are :\\n{}\".format(y_train.value_counts()))"
   ]
  },
  {
   "cell_type": "code",
   "execution_count": 14,
   "metadata": {},
   "outputs": [
    {
     "name": "stdout",
     "output_type": "stream",
     "text": [
      "Total unique elements in test data are : 26\n"
     ]
    }
   ],
   "source": [
    "print(\"Total unique elements in test data are : {}\".format(len(y_test.value_counts())))"
   ]
  },
  {
   "cell_type": "code",
   "execution_count": 15,
   "metadata": {},
   "outputs": [
    {
     "name": "stdout",
     "output_type": "stream",
     "text": [
      "Training data for each alphabets are :\n",
      "q    13\n",
      "e    13\n",
      "o    12\n",
      "c    12\n",
      "k    12\n",
      "w    11\n",
      "v    11\n",
      "d     9\n",
      "u     9\n",
      "t     8\n",
      "l     8\n",
      "r     8\n",
      "g     8\n",
      "n     8\n",
      "y     7\n",
      "z     6\n",
      "b     6\n",
      "p     6\n",
      "h     6\n",
      "i     5\n",
      "s     5\n",
      "x     5\n",
      "f     4\n",
      "m     3\n",
      "a     2\n",
      "j     2\n",
      "Name: Word, dtype: int64\n"
     ]
    }
   ],
   "source": [
    "print(\"Training data for each alphabets are :\\n{}\".format(y_test.value_counts()))"
   ]
  },
  {
   "cell_type": "code",
   "execution_count": 19,
   "metadata": {},
   "outputs": [
    {
     "data": {
      "text/plain": [
       "RandomForestClassifier(bootstrap=True, ccp_alpha=0.0, class_weight=None,\n",
       "                       criterion='gini', max_depth=None, max_features='auto',\n",
       "                       max_leaf_nodes=None, max_samples=None,\n",
       "                       min_impurity_decrease=0.0, min_impurity_split=None,\n",
       "                       min_samples_leaf=1, min_samples_split=2,\n",
       "                       min_weight_fraction_leaf=0.0, n_estimators=30,\n",
       "                       n_jobs=None, oob_score=False, random_state=30, verbose=0,\n",
       "                       warm_start=False)"
      ]
     },
     "execution_count": 19,
     "metadata": {},
     "output_type": "execute_result"
    }
   ],
   "source": [
    "# Model training\n",
    "rf = RandomForestClassifier(n_estimators=30, random_state=30)\n",
    "rf.fit(X_train, y_train)"
   ]
  },
  {
   "cell_type": "code",
   "execution_count": 20,
   "metadata": {},
   "outputs": [
    {
     "data": {
      "text/plain": [
       "1.0"
      ]
     },
     "execution_count": 20,
     "metadata": {},
     "output_type": "execute_result"
    }
   ],
   "source": [
    "rf.score(X_train, y_train)"
   ]
  },
  {
   "cell_type": "code",
   "execution_count": 21,
   "metadata": {},
   "outputs": [
    {
     "data": {
      "text/plain": [
       "0.9949748743718593"
      ]
     },
     "execution_count": 21,
     "metadata": {},
     "output_type": "execute_result"
    }
   ],
   "source": [
    "rf.score(X_test, y_test)"
   ]
  },
  {
   "cell_type": "markdown",
   "metadata": {},
   "source": [
    "#### Achieved training score of 100% and test score og 99.49%"
   ]
  },
  {
   "cell_type": "code",
   "execution_count": 22,
   "metadata": {},
   "outputs": [],
   "source": [
    "y_test_predicted = rf.predict(X_test)"
   ]
  },
  {
   "cell_type": "code",
   "execution_count": 23,
   "metadata": {},
   "outputs": [
    {
     "name": "stdout",
     "output_type": "stream",
     "text": [
      "Classification Report \n",
      "                precision    recall  f1-score   support\n",
      "\n",
      "           a       1.00      1.00      1.00         2\n",
      "           b       1.00      1.00      1.00         6\n",
      "           c       1.00      1.00      1.00        12\n",
      "           d       1.00      1.00      1.00         9\n",
      "           e       1.00      1.00      1.00        13\n",
      "           f       1.00      1.00      1.00         4\n",
      "           g       1.00      1.00      1.00         8\n",
      "           h       1.00      1.00      1.00         6\n",
      "           i       1.00      1.00      1.00         5\n",
      "           j       1.00      1.00      1.00         2\n",
      "           k       1.00      1.00      1.00        12\n",
      "           l       1.00      1.00      1.00         8\n",
      "           m       0.75      1.00      0.86         3\n",
      "           n       1.00      1.00      1.00         8\n",
      "           o       1.00      1.00      1.00        12\n",
      "           p       1.00      1.00      1.00         6\n",
      "           q       1.00      1.00      1.00        13\n",
      "           r       1.00      1.00      1.00         8\n",
      "           s       1.00      1.00      1.00         5\n",
      "           t       1.00      0.88      0.93         8\n",
      "           u       1.00      1.00      1.00         9\n",
      "           v       1.00      1.00      1.00        11\n",
      "           w       1.00      1.00      1.00        11\n",
      "           x       1.00      1.00      1.00         5\n",
      "           y       1.00      1.00      1.00         7\n",
      "           z       1.00      1.00      1.00         6\n",
      "\n",
      "    accuracy                           0.99       199\n",
      "   macro avg       0.99      1.00      0.99       199\n",
      "weighted avg       1.00      0.99      1.00       199\n",
      "\n"
     ]
    }
   ],
   "source": [
    "print(\"Classification Report \\n \", classification_report(y_test, y_test_predicted))"
   ]
  },
  {
   "cell_type": "markdown",
   "metadata": {},
   "source": [
    "### This model is good enough for all the cases of all the alphabets"
   ]
  },
  {
   "cell_type": "code",
   "execution_count": 24,
   "metadata": {},
   "outputs": [],
   "source": [
    "# Using pickle to save model for later use\n",
    "import pickle5 as pickle"
   ]
  },
  {
   "cell_type": "code",
   "execution_count": 25,
   "metadata": {},
   "outputs": [],
   "source": [
    "# Saving the model \n",
    "pickle.dump(rf, open('../models/all_alphabets', 'wb'))"
   ]
  }
 ],
 "metadata": {
  "kernelspec": {
   "display_name": "Python 3",
   "language": "python",
   "name": "python3"
  },
  "language_info": {
   "codemirror_mode": {
    "name": "ipython",
    "version": 3
   },
   "file_extension": ".py",
   "mimetype": "text/x-python",
   "name": "python",
   "nbconvert_exporter": "python",
   "pygments_lexer": "ipython3",
   "version": "3.6.9"
  }
 },
 "nbformat": 4,
 "nbformat_minor": 2
}
