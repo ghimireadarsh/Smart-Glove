{
 "cells": [
  {
   "cell_type": "code",
   "execution_count": 1,
   "metadata": {},
   "outputs": [],
   "source": [
    "import numpy as np\n",
    "import pandas as pd\n",
    "import matplotlib.pyplot as plt\n",
    "import seaborn as sns\n",
    "\n",
    "# For machine learning \n",
    "from sklearn.model_selection import train_test_split \n",
    "from sklearn.ensemble import RandomForestClassifier\n",
    "from sklearn.metrics import classification_report"
   ]
  },
  {
   "cell_type": "code",
   "execution_count": 2,
   "metadata": {},
   "outputs": [],
   "source": [
    "df = pd.read_csv('../dataset/all_yes_no.csv')"
   ]
  },
  {
   "cell_type": "code",
   "execution_count": 3,
   "metadata": {},
   "outputs": [
    {
     "data": {
      "text/html": [
       "<div>\n",
       "<style scoped>\n",
       "    .dataframe tbody tr th:only-of-type {\n",
       "        vertical-align: middle;\n",
       "    }\n",
       "\n",
       "    .dataframe tbody tr th {\n",
       "        vertical-align: top;\n",
       "    }\n",
       "\n",
       "    .dataframe thead th {\n",
       "        text-align: right;\n",
       "    }\n",
       "</style>\n",
       "<table border=\"1\" class=\"dataframe\">\n",
       "  <thead>\n",
       "    <tr style=\"text-align: right;\">\n",
       "      <th></th>\n",
       "      <th>Thumb1</th>\n",
       "      <th>Index1</th>\n",
       "      <th>Middle1</th>\n",
       "      <th>Ring1</th>\n",
       "      <th>Pinky1</th>\n",
       "      <th>Palm1</th>\n",
       "      <th>AX1</th>\n",
       "      <th>AY1</th>\n",
       "      <th>AZ1</th>\n",
       "      <th>GX1</th>\n",
       "      <th>...</th>\n",
       "      <th>Ring2</th>\n",
       "      <th>Pinky2</th>\n",
       "      <th>Palm2</th>\n",
       "      <th>AX2</th>\n",
       "      <th>AY2</th>\n",
       "      <th>AZ2</th>\n",
       "      <th>GX2</th>\n",
       "      <th>GY2</th>\n",
       "      <th>GZ2</th>\n",
       "      <th>Word</th>\n",
       "    </tr>\n",
       "  </thead>\n",
       "  <tbody>\n",
       "    <tr>\n",
       "      <th>0</th>\n",
       "      <td>789</td>\n",
       "      <td>728</td>\n",
       "      <td>665</td>\n",
       "      <td>545</td>\n",
       "      <td>871</td>\n",
       "      <td>781</td>\n",
       "      <td>-40.29</td>\n",
       "      <td>12.50</td>\n",
       "      <td>0.05</td>\n",
       "      <td>-0.17</td>\n",
       "      <td>...</td>\n",
       "      <td>546</td>\n",
       "      <td>873</td>\n",
       "      <td>620</td>\n",
       "      <td>-5.16</td>\n",
       "      <td>29.10</td>\n",
       "      <td>90.20</td>\n",
       "      <td>-0.51</td>\n",
       "      <td>-0.17</td>\n",
       "      <td>0.66</td>\n",
       "      <td>j</td>\n",
       "    </tr>\n",
       "    <tr>\n",
       "      <th>1</th>\n",
       "      <td>763</td>\n",
       "      <td>739</td>\n",
       "      <td>637</td>\n",
       "      <td>632</td>\n",
       "      <td>716</td>\n",
       "      <td>484</td>\n",
       "      <td>-3.64</td>\n",
       "      <td>3.38</td>\n",
       "      <td>-2.07</td>\n",
       "      <td>0.08</td>\n",
       "      <td>...</td>\n",
       "      <td>633</td>\n",
       "      <td>718</td>\n",
       "      <td>491</td>\n",
       "      <td>-2.70</td>\n",
       "      <td>8.90</td>\n",
       "      <td>3.30</td>\n",
       "      <td>0.05</td>\n",
       "      <td>0.96</td>\n",
       "      <td>-0.45</td>\n",
       "      <td>e</td>\n",
       "    </tr>\n",
       "    <tr>\n",
       "      <th>2</th>\n",
       "      <td>777</td>\n",
       "      <td>757</td>\n",
       "      <td>691</td>\n",
       "      <td>584</td>\n",
       "      <td>699</td>\n",
       "      <td>771</td>\n",
       "      <td>-5.47</td>\n",
       "      <td>0.02</td>\n",
       "      <td>0.69</td>\n",
       "      <td>-0.09</td>\n",
       "      <td>...</td>\n",
       "      <td>587</td>\n",
       "      <td>701</td>\n",
       "      <td>743</td>\n",
       "      <td>0.60</td>\n",
       "      <td>-2.19</td>\n",
       "      <td>3.12</td>\n",
       "      <td>-0.14</td>\n",
       "      <td>0.98</td>\n",
       "      <td>-0.07</td>\n",
       "      <td>m</td>\n",
       "    </tr>\n",
       "    <tr>\n",
       "      <th>3</th>\n",
       "      <td>784</td>\n",
       "      <td>894</td>\n",
       "      <td>842</td>\n",
       "      <td>822</td>\n",
       "      <td>709</td>\n",
       "      <td>572</td>\n",
       "      <td>0.18</td>\n",
       "      <td>1.41</td>\n",
       "      <td>-7.79</td>\n",
       "      <td>-0.06</td>\n",
       "      <td>...</td>\n",
       "      <td>826</td>\n",
       "      <td>710</td>\n",
       "      <td>532</td>\n",
       "      <td>5.73</td>\n",
       "      <td>4.58</td>\n",
       "      <td>6.15</td>\n",
       "      <td>-0.05</td>\n",
       "      <td>0.98</td>\n",
       "      <td>-0.17</td>\n",
       "      <td>w</td>\n",
       "    </tr>\n",
       "    <tr>\n",
       "      <th>4</th>\n",
       "      <td>826</td>\n",
       "      <td>890</td>\n",
       "      <td>741</td>\n",
       "      <td>593</td>\n",
       "      <td>689</td>\n",
       "      <td>876</td>\n",
       "      <td>9.63</td>\n",
       "      <td>-5.19</td>\n",
       "      <td>3.60</td>\n",
       "      <td>-0.73</td>\n",
       "      <td>...</td>\n",
       "      <td>594</td>\n",
       "      <td>689</td>\n",
       "      <td>895</td>\n",
       "      <td>38.54</td>\n",
       "      <td>-16.79</td>\n",
       "      <td>1.64</td>\n",
       "      <td>-0.75</td>\n",
       "      <td>0.63</td>\n",
       "      <td>-0.08</td>\n",
       "      <td>k</td>\n",
       "    </tr>\n",
       "  </tbody>\n",
       "</table>\n",
       "<p>5 rows × 25 columns</p>\n",
       "</div>"
      ],
      "text/plain": [
       "   Thumb1  Index1  Middle1  Ring1  Pinky1  Palm1    AX1    AY1   AZ1   GX1  \\\n",
       "0     789     728      665    545     871    781 -40.29  12.50  0.05 -0.17   \n",
       "1     763     739      637    632     716    484  -3.64   3.38 -2.07  0.08   \n",
       "2     777     757      691    584     699    771  -5.47   0.02  0.69 -0.09   \n",
       "3     784     894      842    822     709    572   0.18   1.41 -7.79 -0.06   \n",
       "4     826     890      741    593     689    876   9.63  -5.19  3.60 -0.73   \n",
       "\n",
       "   ...  Ring2  Pinky2  Palm2    AX2    AY2    AZ2   GX2   GY2   GZ2  Word  \n",
       "0  ...    546     873    620  -5.16  29.10  90.20 -0.51 -0.17  0.66     j  \n",
       "1  ...    633     718    491  -2.70   8.90   3.30  0.05  0.96 -0.45     e  \n",
       "2  ...    587     701    743   0.60  -2.19   3.12 -0.14  0.98 -0.07     m  \n",
       "3  ...    826     710    532   5.73   4.58   6.15 -0.05  0.98 -0.17     w  \n",
       "4  ...    594     689    895  38.54 -16.79   1.64 -0.75  0.63 -0.08     k  \n",
       "\n",
       "[5 rows x 25 columns]"
      ]
     },
     "execution_count": 3,
     "metadata": {},
     "output_type": "execute_result"
    }
   ],
   "source": [
    "df.head()"
   ]
  },
  {
   "cell_type": "code",
   "execution_count": 4,
   "metadata": {},
   "outputs": [
    {
     "data": {
      "text/plain": [
       "5888"
      ]
     },
     "execution_count": 4,
     "metadata": {},
     "output_type": "execute_result"
    }
   ],
   "source": [
    "len(df)"
   ]
  },
  {
   "cell_type": "code",
   "execution_count": 5,
   "metadata": {},
   "outputs": [
    {
     "data": {
      "text/plain": [
       "yes    384\n",
       "e      338\n",
       "eh     337\n",
       "r      290\n",
       "no     290\n",
       "m      289\n",
       "d      289\n",
       "x      289\n",
       "o      289\n",
       "s      289\n",
       "i      289\n",
       "t      289\n",
       "y      288\n",
       "n      288\n",
       "j      287\n",
       "z      215\n",
       "l       96\n",
       "g       96\n",
       "f       96\n",
       "c       96\n",
       "u       96\n",
       "v       96\n",
       "b       96\n",
       "p       96\n",
       "h       95\n",
       "k       95\n",
       "q       95\n",
       "w       95\n",
       "Name: Word, dtype: int64"
      ]
     },
     "execution_count": 5,
     "metadata": {},
     "output_type": "execute_result"
    }
   ],
   "source": [
    "df['Word'].value_counts()"
   ]
  },
  {
   "cell_type": "code",
   "execution_count": 6,
   "metadata": {},
   "outputs": [],
   "source": [
    "df_X = df.drop([\"Word\"], axis=1)"
   ]
  },
  {
   "cell_type": "code",
   "execution_count": 7,
   "metadata": {},
   "outputs": [],
   "source": [
    "df_y = df[\"Word\"]"
   ]
  },
  {
   "cell_type": "code",
   "execution_count": 8,
   "metadata": {},
   "outputs": [],
   "source": [
    "# Creating training and testing data\n",
    "X_train, X_test, y_train, y_test = train_test_split(df_X, df_y, test_size=0.051)"
   ]
  },
  {
   "cell_type": "code",
   "execution_count": 9,
   "metadata": {},
   "outputs": [
    {
     "name": "stdout",
     "output_type": "stream",
     "text": [
      "Training data size : 5587 \n",
      "Testing data size : 301\n"
     ]
    }
   ],
   "source": [
    "print(\"Training data size : {} \\nTesting data size : {}\".format(len(X_train), len(X_test)))"
   ]
  },
  {
   "cell_type": "code",
   "execution_count": 10,
   "metadata": {},
   "outputs": [
    {
     "name": "stdout",
     "output_type": "stream",
     "text": [
      "Train data shape : (5587, 24) \n",
      "Test Data shape : (301, 24) \n"
     ]
    }
   ],
   "source": [
    "print(\"Train data shape : {} \\nTest Data shape : {} \".format(X_train.shape, X_test.shape))"
   ]
  },
  {
   "cell_type": "code",
   "execution_count": 11,
   "metadata": {},
   "outputs": [
    {
     "data": {
      "text/html": [
       "<div>\n",
       "<style scoped>\n",
       "    .dataframe tbody tr th:only-of-type {\n",
       "        vertical-align: middle;\n",
       "    }\n",
       "\n",
       "    .dataframe tbody tr th {\n",
       "        vertical-align: top;\n",
       "    }\n",
       "\n",
       "    .dataframe thead th {\n",
       "        text-align: right;\n",
       "    }\n",
       "</style>\n",
       "<table border=\"1\" class=\"dataframe\">\n",
       "  <thead>\n",
       "    <tr style=\"text-align: right;\">\n",
       "      <th></th>\n",
       "      <th>Thumb1</th>\n",
       "      <th>Index1</th>\n",
       "      <th>Middle1</th>\n",
       "      <th>Ring1</th>\n",
       "      <th>Pinky1</th>\n",
       "      <th>Palm1</th>\n",
       "      <th>AX1</th>\n",
       "      <th>AY1</th>\n",
       "      <th>AZ1</th>\n",
       "      <th>GX1</th>\n",
       "      <th>...</th>\n",
       "      <th>Middle2</th>\n",
       "      <th>Ring2</th>\n",
       "      <th>Pinky2</th>\n",
       "      <th>Palm2</th>\n",
       "      <th>AX2</th>\n",
       "      <th>AY2</th>\n",
       "      <th>AZ2</th>\n",
       "      <th>GX2</th>\n",
       "      <th>GY2</th>\n",
       "      <th>GZ2</th>\n",
       "    </tr>\n",
       "  </thead>\n",
       "  <tbody>\n",
       "    <tr>\n",
       "      <th>5374</th>\n",
       "      <td>794</td>\n",
       "      <td>727</td>\n",
       "      <td>663</td>\n",
       "      <td>583</td>\n",
       "      <td>853</td>\n",
       "      <td>739</td>\n",
       "      <td>-5.14</td>\n",
       "      <td>63.08</td>\n",
       "      <td>93.35</td>\n",
       "      <td>-0.46</td>\n",
       "      <td>...</td>\n",
       "      <td>681</td>\n",
       "      <td>606</td>\n",
       "      <td>872</td>\n",
       "      <td>293</td>\n",
       "      <td>-18.07</td>\n",
       "      <td>-17.37</td>\n",
       "      <td>-53.77</td>\n",
       "      <td>-0.48</td>\n",
       "      <td>0.82</td>\n",
       "      <td>-0.09</td>\n",
       "    </tr>\n",
       "    <tr>\n",
       "      <th>5069</th>\n",
       "      <td>794</td>\n",
       "      <td>743</td>\n",
       "      <td>620</td>\n",
       "      <td>567</td>\n",
       "      <td>671</td>\n",
       "      <td>838</td>\n",
       "      <td>-4.20</td>\n",
       "      <td>0.11</td>\n",
       "      <td>-0.44</td>\n",
       "      <td>-0.07</td>\n",
       "      <td>...</td>\n",
       "      <td>625</td>\n",
       "      <td>562</td>\n",
       "      <td>670</td>\n",
       "      <td>835</td>\n",
       "      <td>-3.22</td>\n",
       "      <td>5.08</td>\n",
       "      <td>8.07</td>\n",
       "      <td>0.04</td>\n",
       "      <td>0.98</td>\n",
       "      <td>-0.37</td>\n",
       "    </tr>\n",
       "    <tr>\n",
       "      <th>3134</th>\n",
       "      <td>795</td>\n",
       "      <td>764</td>\n",
       "      <td>665</td>\n",
       "      <td>545</td>\n",
       "      <td>696</td>\n",
       "      <td>599</td>\n",
       "      <td>-5.13</td>\n",
       "      <td>1.21</td>\n",
       "      <td>0.98</td>\n",
       "      <td>-0.22</td>\n",
       "      <td>...</td>\n",
       "      <td>665</td>\n",
       "      <td>542</td>\n",
       "      <td>698</td>\n",
       "      <td>581</td>\n",
       "      <td>-3.00</td>\n",
       "      <td>-3.12</td>\n",
       "      <td>2.60</td>\n",
       "      <td>-0.17</td>\n",
       "      <td>0.94</td>\n",
       "      <td>0.06</td>\n",
       "    </tr>\n",
       "    <tr>\n",
       "      <th>3815</th>\n",
       "      <td>810</td>\n",
       "      <td>771</td>\n",
       "      <td>640</td>\n",
       "      <td>491</td>\n",
       "      <td>848</td>\n",
       "      <td>471</td>\n",
       "      <td>-3.24</td>\n",
       "      <td>2.10</td>\n",
       "      <td>-1.78</td>\n",
       "      <td>-0.04</td>\n",
       "      <td>...</td>\n",
       "      <td>642</td>\n",
       "      <td>492</td>\n",
       "      <td>853</td>\n",
       "      <td>467</td>\n",
       "      <td>2.86</td>\n",
       "      <td>4.50</td>\n",
       "      <td>5.69</td>\n",
       "      <td>-0.06</td>\n",
       "      <td>0.97</td>\n",
       "      <td>-0.35</td>\n",
       "    </tr>\n",
       "    <tr>\n",
       "      <th>2809</th>\n",
       "      <td>782</td>\n",
       "      <td>772</td>\n",
       "      <td>664</td>\n",
       "      <td>532</td>\n",
       "      <td>680</td>\n",
       "      <td>737</td>\n",
       "      <td>-2.21</td>\n",
       "      <td>2.05</td>\n",
       "      <td>0.10</td>\n",
       "      <td>-0.16</td>\n",
       "      <td>...</td>\n",
       "      <td>664</td>\n",
       "      <td>532</td>\n",
       "      <td>680</td>\n",
       "      <td>737</td>\n",
       "      <td>-2.18</td>\n",
       "      <td>0.83</td>\n",
       "      <td>3.94</td>\n",
       "      <td>-0.16</td>\n",
       "      <td>0.98</td>\n",
       "      <td>-0.31</td>\n",
       "    </tr>\n",
       "  </tbody>\n",
       "</table>\n",
       "<p>5 rows × 24 columns</p>\n",
       "</div>"
      ],
      "text/plain": [
       "      Thumb1  Index1  Middle1  Ring1  Pinky1  Palm1   AX1    AY1    AZ1   GX1  \\\n",
       "5374     794     727      663    583     853    739 -5.14  63.08  93.35 -0.46   \n",
       "5069     794     743      620    567     671    838 -4.20   0.11  -0.44 -0.07   \n",
       "3134     795     764      665    545     696    599 -5.13   1.21   0.98 -0.22   \n",
       "3815     810     771      640    491     848    471 -3.24   2.10  -1.78 -0.04   \n",
       "2809     782     772      664    532     680    737 -2.21   2.05   0.10 -0.16   \n",
       "\n",
       "      ...  Middle2  Ring2  Pinky2  Palm2    AX2    AY2    AZ2   GX2   GY2  \\\n",
       "5374  ...      681    606     872    293 -18.07 -17.37 -53.77 -0.48  0.82   \n",
       "5069  ...      625    562     670    835  -3.22   5.08   8.07  0.04  0.98   \n",
       "3134  ...      665    542     698    581  -3.00  -3.12   2.60 -0.17  0.94   \n",
       "3815  ...      642    492     853    467   2.86   4.50   5.69 -0.06  0.97   \n",
       "2809  ...      664    532     680    737  -2.18   0.83   3.94 -0.16  0.98   \n",
       "\n",
       "       GZ2  \n",
       "5374 -0.09  \n",
       "5069 -0.37  \n",
       "3134  0.06  \n",
       "3815 -0.35  \n",
       "2809 -0.31  \n",
       "\n",
       "[5 rows x 24 columns]"
      ]
     },
     "execution_count": 11,
     "metadata": {},
     "output_type": "execute_result"
    }
   ],
   "source": [
    "X_train.head()"
   ]
  },
  {
   "cell_type": "code",
   "execution_count": 12,
   "metadata": {},
   "outputs": [
    {
     "name": "stdout",
     "output_type": "stream",
     "text": [
      "Total unique elements in training data are : 28\n"
     ]
    }
   ],
   "source": [
    "print(\"Total unique elements in training data are : {}\".format(len(y_train.value_counts())))"
   ]
  },
  {
   "cell_type": "code",
   "execution_count": 13,
   "metadata": {},
   "outputs": [
    {
     "name": "stdout",
     "output_type": "stream",
     "text": [
      "Training data for each alphabets are :\n",
      "yes    366\n",
      "eh     319\n",
      "e      317\n",
      "no     278\n",
      "d      278\n",
      "j      278\n",
      "r      277\n",
      "y      276\n",
      "m      275\n",
      "i      275\n",
      "n      274\n",
      "o      273\n",
      "t      272\n",
      "x      270\n",
      "s      266\n",
      "z      199\n",
      "q       95\n",
      "f       95\n",
      "u       93\n",
      "v       93\n",
      "l       92\n",
      "b       91\n",
      "g       91\n",
      "k       91\n",
      "p       91\n",
      "w       88\n",
      "c       87\n",
      "h       87\n",
      "Name: Word, dtype: int64\n"
     ]
    }
   ],
   "source": [
    "print(\"Training data for each alphabets are :\\n{}\".format(y_train.value_counts()))"
   ]
  },
  {
   "cell_type": "code",
   "execution_count": 14,
   "metadata": {},
   "outputs": [
    {
     "name": "stdout",
     "output_type": "stream",
     "text": [
      "Total unique elements in test data are : 27\n"
     ]
    }
   ],
   "source": [
    "print(\"Total unique elements in test data are : {}\".format(len(y_test.value_counts())))"
   ]
  },
  {
   "cell_type": "code",
   "execution_count": 15,
   "metadata": {},
   "outputs": [
    {
     "name": "stdout",
     "output_type": "stream",
     "text": [
      "Training data for each alphabets are :\n",
      "s      23\n",
      "e      21\n",
      "x      19\n",
      "yes    18\n",
      "eh     18\n",
      "t      17\n",
      "z      16\n",
      "o      16\n",
      "n      14\n",
      "i      14\n",
      "m      14\n",
      "r      13\n",
      "y      12\n",
      "no     12\n",
      "d      11\n",
      "c       9\n",
      "j       9\n",
      "h       8\n",
      "w       7\n",
      "p       5\n",
      "g       5\n",
      "b       5\n",
      "k       4\n",
      "l       4\n",
      "u       3\n",
      "v       3\n",
      "f       1\n",
      "Name: Word, dtype: int64\n"
     ]
    }
   ],
   "source": [
    "print(\"Training data for each alphabets are :\\n{}\".format(y_test.value_counts()))"
   ]
  },
  {
   "cell_type": "code",
   "execution_count": 16,
   "metadata": {},
   "outputs": [
    {
     "data": {
      "text/plain": [
       "RandomForestClassifier(bootstrap=True, ccp_alpha=0.0, class_weight=None,\n",
       "                       criterion='gini', max_depth=None, max_features='auto',\n",
       "                       max_leaf_nodes=None, max_samples=None,\n",
       "                       min_impurity_decrease=0.0, min_impurity_split=None,\n",
       "                       min_samples_leaf=1, min_samples_split=2,\n",
       "                       min_weight_fraction_leaf=0.0, n_estimators=50,\n",
       "                       n_jobs=None, oob_score=False, random_state=30, verbose=0,\n",
       "                       warm_start=False)"
      ]
     },
     "execution_count": 16,
     "metadata": {},
     "output_type": "execute_result"
    }
   ],
   "source": [
    "rf = RandomForestClassifier(n_estimators=50, random_state=30)\n",
    "rf.fit(X_train, y_train)"
   ]
  },
  {
   "cell_type": "code",
   "execution_count": 17,
   "metadata": {},
   "outputs": [
    {
     "data": {
      "text/plain": [
       "1.0"
      ]
     },
     "execution_count": 17,
     "metadata": {},
     "output_type": "execute_result"
    }
   ],
   "source": [
    "rf.score(X_train, y_train)"
   ]
  },
  {
   "cell_type": "code",
   "execution_count": 18,
   "metadata": {},
   "outputs": [
    {
     "data": {
      "text/plain": [
       "1.0"
      ]
     },
     "execution_count": 18,
     "metadata": {},
     "output_type": "execute_result"
    }
   ],
   "source": [
    "rf.score(X_test, y_test)"
   ]
  },
  {
   "cell_type": "markdown",
   "metadata": {},
   "source": [
    "#### Achieved training score of 100% and test score of 99.66%"
   ]
  },
  {
   "cell_type": "code",
   "execution_count": 19,
   "metadata": {},
   "outputs": [],
   "source": [
    "y_test_predicted = rf.predict(X_test)"
   ]
  },
  {
   "cell_type": "code",
   "execution_count": 20,
   "metadata": {},
   "outputs": [
    {
     "name": "stdout",
     "output_type": "stream",
     "text": [
      "Classification Report \n",
      "                precision    recall  f1-score   support\n",
      "\n",
      "           b       1.00      1.00      1.00         5\n",
      "           c       1.00      1.00      1.00         9\n",
      "           d       1.00      1.00      1.00        11\n",
      "           e       1.00      1.00      1.00        21\n",
      "          eh       1.00      1.00      1.00        18\n",
      "           f       1.00      1.00      1.00         1\n",
      "           g       1.00      1.00      1.00         5\n",
      "           h       1.00      1.00      1.00         8\n",
      "           i       1.00      1.00      1.00        14\n",
      "           j       1.00      1.00      1.00         9\n",
      "           k       1.00      1.00      1.00         4\n",
      "           l       1.00      1.00      1.00         4\n",
      "           m       1.00      1.00      1.00        14\n",
      "           n       1.00      1.00      1.00        14\n",
      "          no       1.00      1.00      1.00        12\n",
      "           o       1.00      1.00      1.00        16\n",
      "           p       1.00      1.00      1.00         5\n",
      "           r       1.00      1.00      1.00        13\n",
      "           s       1.00      1.00      1.00        23\n",
      "           t       1.00      1.00      1.00        17\n",
      "           u       1.00      1.00      1.00         3\n",
      "           v       1.00      1.00      1.00         3\n",
      "           w       1.00      1.00      1.00         7\n",
      "           x       1.00      1.00      1.00        19\n",
      "           y       1.00      1.00      1.00        12\n",
      "         yes       1.00      1.00      1.00        18\n",
      "           z       1.00      1.00      1.00        16\n",
      "\n",
      "    accuracy                           1.00       301\n",
      "   macro avg       1.00      1.00      1.00       301\n",
      "weighted avg       1.00      1.00      1.00       301\n",
      "\n"
     ]
    }
   ],
   "source": [
    "print(\"Classification Report \\n \", classification_report(y_test, y_test_predicted))"
   ]
  },
  {
   "cell_type": "markdown",
   "metadata": {},
   "source": [
    "### This model is good enough for all the cases of all the alphabets and yes no cases\n"
   ]
  },
  {
   "cell_type": "code",
   "execution_count": 21,
   "metadata": {},
   "outputs": [],
   "source": [
    "# Using pickle to save model for later use\n",
    "import pickle5 as pickle"
   ]
  },
  {
   "cell_type": "code",
   "execution_count": 22,
   "metadata": {},
   "outputs": [],
   "source": [
    "# Saving the model \n",
    "pickle.dump(rf, open('../models/alphabets_and_yes_no', 'wb'))"
   ]
  }
 ],
 "metadata": {
  "kernelspec": {
   "display_name": "Python 3",
   "language": "python",
   "name": "python3"
  },
  "language_info": {
   "codemirror_mode": {
    "name": "ipython",
    "version": 3
   },
   "file_extension": ".py",
   "mimetype": "text/x-python",
   "name": "python",
   "nbconvert_exporter": "python",
   "pygments_lexer": "ipython3",
   "version": "3.6.9"
  }
 },
 "nbformat": 4,
 "nbformat_minor": 2
}
